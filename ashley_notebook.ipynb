{
 "cells": [
  {
   "cell_type": "code",
   "execution_count": 1,
   "id": "5e18eb55-45b6-49e5-9327-e6474c8555ba",
   "metadata": {},
   "outputs": [],
   "source": [
    "# Import dependencies\n",
    "import pandas as pd\n",
    "import matplotlib as pyplot\n",
    "import numpy as np\n",
    "import seaborn as sns\n",
    "from scipy import stats\n",
    "import matplotlib.pyplot as plt"
   ]
  },
  {
   "cell_type": "code",
   "execution_count": 2,
   "id": "19f7e04d-c4e2-4f19-8cfa-dd7b058514ce",
   "metadata": {},
   "outputs": [],
   "source": [
    "# Reference csv file paths\n",
    "\n",
    "final_path = \"Data/book_to_film_adaptations.csv\""
   ]
  },
  {
   "cell_type": "code",
   "execution_count": 3,
   "id": "bbc9d860-87ac-4a6d-b1a6-ac87441a0b2c",
   "metadata": {},
   "outputs": [
    {
     "data": {
      "text/html": [
       "<div>\n",
       "<style scoped>\n",
       "    .dataframe tbody tr th:only-of-type {\n",
       "        vertical-align: middle;\n",
       "    }\n",
       "\n",
       "    .dataframe tbody tr th {\n",
       "        vertical-align: top;\n",
       "    }\n",
       "\n",
       "    .dataframe thead th {\n",
       "        text-align: right;\n",
       "    }\n",
       "</style>\n",
       "<table border=\"1\" class=\"dataframe\">\n",
       "  <thead>\n",
       "    <tr style=\"text-align: right;\">\n",
       "      <th></th>\n",
       "      <th>Unnamed: 0</th>\n",
       "      <th>index</th>\n",
       "      <th>id</th>\n",
       "      <th>keywords</th>\n",
       "      <th>adult</th>\n",
       "      <th>budget</th>\n",
       "      <th>genres</th>\n",
       "      <th>imdb_id</th>\n",
       "      <th>original_language</th>\n",
       "      <th>original_title</th>\n",
       "      <th>...</th>\n",
       "      <th>title</th>\n",
       "      <th>movieId</th>\n",
       "      <th>imdbId</th>\n",
       "      <th>rating</th>\n",
       "      <th>authors</th>\n",
       "      <th>average_rating</th>\n",
       "      <th>num_pages</th>\n",
       "      <th>ratings_count</th>\n",
       "      <th>publisher</th>\n",
       "      <th>sum_of_ratings</th>\n",
       "    </tr>\n",
       "  </thead>\n",
       "  <tbody>\n",
       "    <tr>\n",
       "      <th>0</th>\n",
       "      <td>0</td>\n",
       "      <td>0</td>\n",
       "      <td>4584</td>\n",
       "      <td>[{'id': 420, 'name': 'bowling'}, {'id': 818, '...</td>\n",
       "      <td>False</td>\n",
       "      <td>16500000</td>\n",
       "      <td>[{'id': 18, 'name': 'Drama'}, {'id': 10749, 'n...</td>\n",
       "      <td>tt0114388</td>\n",
       "      <td>en</td>\n",
       "      <td>Sense and Sensibility</td>\n",
       "      <td>...</td>\n",
       "      <td>Sense and Sensibility</td>\n",
       "      <td>17</td>\n",
       "      <td>114388</td>\n",
       "      <td>3.95</td>\n",
       "      <td>Jane Austen/Claudia L. Johnson</td>\n",
       "      <td>4.07</td>\n",
       "      <td>269</td>\n",
       "      <td>768</td>\n",
       "      <td>W. W. Norton &amp; Company</td>\n",
       "      <td>1773</td>\n",
       "    </tr>\n",
       "    <tr>\n",
       "      <th>1</th>\n",
       "      <td>1</td>\n",
       "      <td>6</td>\n",
       "      <td>10533</td>\n",
       "      <td>[{'id': 818, 'name': 'based on novel'}, {'id':...</td>\n",
       "      <td>False</td>\n",
       "      <td>50000000</td>\n",
       "      <td>[{'id': 18, 'name': 'Drama'}, {'id': 36, 'name...</td>\n",
       "      <td>tt0114345</td>\n",
       "      <td>en</td>\n",
       "      <td>The Scarlet Letter</td>\n",
       "      <td>...</td>\n",
       "      <td>The Scarlet Letter</td>\n",
       "      <td>191</td>\n",
       "      <td>114345</td>\n",
       "      <td>2.69</td>\n",
       "      <td>Nathaniel Hawthorne/Thomas E. Connolly/Nina Baym</td>\n",
       "      <td>3.40</td>\n",
       "      <td>279</td>\n",
       "      <td>609586</td>\n",
       "      <td>Penguin Books</td>\n",
       "      <td>11030</td>\n",
       "    </tr>\n",
       "    <tr>\n",
       "      <th>2</th>\n",
       "      <td>2</td>\n",
       "      <td>18</td>\n",
       "      <td>19101</td>\n",
       "      <td>[{'id': 818, 'name': 'based on novel'}, {'id':...</td>\n",
       "      <td>False</td>\n",
       "      <td>17000000</td>\n",
       "      <td>[{'id': 18, 'name': 'Drama'}, {'id': 10751, 'n...</td>\n",
       "      <td>tt0113670</td>\n",
       "      <td>en</td>\n",
       "      <td>A Little Princess</td>\n",
       "      <td>...</td>\n",
       "      <td>A Little Princess</td>\n",
       "      <td>262</td>\n",
       "      <td>113670</td>\n",
       "      <td>3.76</td>\n",
       "      <td>Frances Hodgson Burnett/Nancy Bond</td>\n",
       "      <td>4.20</td>\n",
       "      <td>242</td>\n",
       "      <td>238192</td>\n",
       "      <td>Penguin Books</td>\n",
       "      <td>14769</td>\n",
       "    </tr>\n",
       "  </tbody>\n",
       "</table>\n",
       "<p>3 rows × 25 columns</p>\n",
       "</div>"
      ],
      "text/plain": [
       "   Unnamed: 0  index     id  \\\n",
       "0           0      0   4584   \n",
       "1           1      6  10533   \n",
       "2           2     18  19101   \n",
       "\n",
       "                                            keywords  adult    budget  \\\n",
       "0  [{'id': 420, 'name': 'bowling'}, {'id': 818, '...  False  16500000   \n",
       "1  [{'id': 818, 'name': 'based on novel'}, {'id':...  False  50000000   \n",
       "2  [{'id': 818, 'name': 'based on novel'}, {'id':...  False  17000000   \n",
       "\n",
       "                                              genres    imdb_id  \\\n",
       "0  [{'id': 18, 'name': 'Drama'}, {'id': 10749, 'n...  tt0114388   \n",
       "1  [{'id': 18, 'name': 'Drama'}, {'id': 36, 'name...  tt0114345   \n",
       "2  [{'id': 18, 'name': 'Drama'}, {'id': 10751, 'n...  tt0113670   \n",
       "\n",
       "  original_language         original_title  ...                  title  \\\n",
       "0                en  Sense and Sensibility  ...  Sense and Sensibility   \n",
       "1                en     The Scarlet Letter  ...     The Scarlet Letter   \n",
       "2                en      A Little Princess  ...      A Little Princess   \n",
       "\n",
       "   movieId  imdbId rating                                           authors  \\\n",
       "0       17  114388   3.95                    Jane Austen/Claudia L. Johnson   \n",
       "1      191  114345   2.69  Nathaniel Hawthorne/Thomas E. Connolly/Nina Baym   \n",
       "2      262  113670   3.76                Frances Hodgson Burnett/Nancy Bond   \n",
       "\n",
       "  average_rating    num_pages  ratings_count               publisher  \\\n",
       "0           4.07          269            768  W. W. Norton & Company   \n",
       "1           3.40          279         609586           Penguin Books   \n",
       "2           4.20          242         238192           Penguin Books   \n",
       "\n",
       "  sum_of_ratings  \n",
       "0           1773  \n",
       "1          11030  \n",
       "2          14769  \n",
       "\n",
       "[3 rows x 25 columns]"
      ]
     },
     "execution_count": 3,
     "metadata": {},
     "output_type": "execute_result"
    }
   ],
   "source": [
    "# Import csv files as DataFrames\n",
    "\n",
    "# Data\n",
    "final_df = pd.read_csv(final_path, encoding=\"utf-8\")\n",
    "\n",
    "final_df.head(3)\n"
   ]
  },
  {
   "cell_type": "code",
   "execution_count": 11,
   "id": "c13ffd82-70e4-4c7f-abb9-3d5255017122",
   "metadata": {},
   "outputs": [
    {
     "data": {
      "image/png": "[encoded data removed]",
      "text/plain": [
       "<Figure size 432x288 with 1 Axes>"
      ]
     },
     "metadata": {
      "needs_background": "light"
     },
     "output_type": "display_data"
    }
   ],
   "source": [
    "#page count versus movie revenue plot\n",
    "\n",
    "plt.scatter(final_df[\"  num_pages\"], final_df[\"revenue\"], marker=\"o\")\n",
    "\n",
    "# Incorporate the other graph properties\n",
    "plt.title(\"Book Page Count versus Movie Revenue\")\n",
    "plt.ylabel(\"Revenue)\")\n",
    "plt.xlabel(\"Pages\")\n",
    "plt.grid(True)\n",
    "\n",
    "# Save the figure\n",
    "plt.savefig(\"page_count_revenue.png\")\n",
    "\n",
    "# Show plot\n",
    "plt.show()\n"
   ]
  },
  {
   "cell_type": "code",
   "execution_count": 10,
   "id": "03422991-1674-497b-bcf0-404ee438ede1",
   "metadata": {},
   "outputs": [
    {
     "data": {
      "image/png": "[encoded data removed]",
      "text/plain": [
       "<Figure size 432x288 with 1 Axes>"
      ]
     },
     "metadata": {
      "needs_background": "light"
     },
     "output_type": "display_data"
    }
   ],
   "source": [
    "#page count versus movie rating plot\n",
    "\n",
    "plt.scatter(final_df[\"  num_pages\"], final_df[\"rating\"], marker=\"o\")\n",
    "\n",
    "# Incorporate the other graph properties\n",
    "plt.title(\"Book Page Count versus Movie Revenue\")\n",
    "plt.ylabel(\"Rating)\")\n",
    "plt.xlabel(\"Pages\")\n",
    "plt.grid(True)\n",
    "\n",
    "# Save the figure\n",
    "plt.savefig(\"page_count_rating.png\")\n",
    "\n",
    "# Show plot\n",
    "plt.show()"
   ]
  },
  {
   "cell_type": "code",
   "execution_count": null,
   "id": "0e586558-cbca-42bd-a379-c51b1745680e",
   "metadata": {},
   "outputs": [],
   "source": [
    "#genre versus movie revenue plot\n",
    "\n",
    "plt.scatter(final_df[\"  num_pages\"], final_df[\"rating\"], marker=\"o\")\n",
    "\n",
    "# Incorporate the other graph properties\n",
    "plt.title(\"Book Page Count versus Movie Revenue\")\n",
    "plt.ylabel(\"Pages)\")\n",
    "plt.xlabel(\"Rating\")\n",
    "plt.grid(True)\n",
    "\n",
    "# Save the figure\n",
    "plt.savefig(\"page_count_rating.png\")\n",
    "\n",
    "# Show plot\n",
    "plt.show()"
   ]
  },
  {
   "cell_type": "code",
   "execution_count": null,
   "id": "7034d699-1e75-4a4c-b115-fcfd40a67f5c",
   "metadata": {},
   "outputs": [],
   "source": [
    "#genre versus rating plot\n",
    "\n",
    "plt.scatter(final_df[\"  num_pages\"], final_df[\"rating\"], marker=\"o\")\n",
    "\n",
    "# Incorporate the other graph properties\n",
    "plt.title(\"Book Page Count versus Movie Revenue\")\n",
    "plt.ylabel(\"Genre)\")\n",
    "plt.xlabel(\"Rating\")\n",
    "plt.grid(True)\n",
    "\n",
    "# Save the figure\n",
    "plt.savefig(\"page_count_rating.png\")\n",
    "\n",
    "# Show plot\n",
    "plt.show()"
   ]
  }
 ],
 "metadata": {
  "kernelspec": {
   "display_name": "Python 3",
   "language": "python",
   "name": "python3"
  },
  "language_info": {
   "codemirror_mode": {
    "name": "ipython",
    "version": 3
   },
   "file_extension": ".py",
   "mimetype": "text/x-python",
   "name": "python",
   "nbconvert_exporter": "python",
   "pygments_lexer": "ipython3",
   "version": "3.8.8"
  }
 },
 "nbformat": 4,
 "nbformat_minor": 5
}
