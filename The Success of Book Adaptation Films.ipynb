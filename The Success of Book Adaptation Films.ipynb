{
 "cells": [
  {
   "cell_type": "markdown",
   "id": "96a463c2",
   "metadata": {},
   "source": [
    "# Do Book Adaptations Perform Well as Movies?"
   ]
  },
  {
   "cell_type": "markdown",
   "id": "0360f097",
   "metadata": {},
   "source": [
    "Making feature films is a high-risk venture. Studios invest millions of dollars creating the next blockbuster with no way of knowing up-front whether their huge investments will turn a profit. When deciding whether to fund a particular movie, what are some pieces of information that would help ensure that the film would be successful? It would help to know that you are investing in a good story, with memorable characters. Something that will connect with the audience. Our project explores the relationship between books and movies to answer the question: do book adaptations perform as well as movies? What does the data tell us about how book adaptations perform after being released as movies, and are they reliably better than the average movie?"
   ]
  },
  {
   "cell_type": "code",
   "execution_count": 1,
   "id": "8a577d75",
   "metadata": {},
   "outputs": [],
   "source": [
    "# Import dependencies\n",
    "import pandas as pd\n",
    "import matplotlib.pyplot as plt\n",
    "import numpy as np\n",
    "from scipy import stats\n",
    "import ast\n",
    "from PIL import Image\n",
    "from wordcloud import WordCloud, STOPWORDS, ImageColorGenerator\n",
    "from scipy.stats import linregress\n",
    "import warnings\n",
    "warnings.filterwarnings('ignore')\n",
    "%matplotlib inline"
   ]
  },
  {
   "cell_type": "markdown",
   "id": "2ed8831d",
   "metadata": {},
   "source": [
    "###  Cleanup and EDA"
   ]
  },
  {
   "cell_type": "code",
   "execution_count": 2,
   "id": "1d408826",
   "metadata": {},
   "outputs": [],
   "source": [
    "# Reference csv file paths\n",
    "goodreads_path = \"Raw_Data/books.csv\"\n",
    "keywords_path = \"Raw_Data/keywords.csv\"\n",
    "movies_path = \"Raw_Data/movies_metadata.csv\"\n",
    "ratings_path = \"Raw_Data/ratings.csv\"\n",
    "link_path = \"Raw_Data/links.csv\"\n",
    "\n",
    "# Import csv files as DataFrames\n",
    "# Book data\n",
    "goodreads_df = pd.read_csv(goodreads_path, encoding=\"utf-8\")\n",
    "# Movie data\n",
    "keywords_df = pd.read_csv(keywords_path, encoding=\"utf-8\")\n",
    "movies_df = pd.read_csv(movies_path, encoding=\"utf-8\")\n",
    "ratings_df = pd.read_csv(ratings_path, encoding=\"utf-8\")\n",
    "# Id linking data\n",
    "link_df = pd.read_csv(link_path, encoding=\"utf-8\")"
   ]
  },
  {
   "cell_type": "code",
   "execution_count": 3,
   "id": "96c1d467",
   "metadata": {},
   "outputs": [],
   "source": [
    "# Filter df nested dict for 'based on novel' to find book-to-movie adaptations\n",
    "adaptations = keywords_df[['based on novel' in row for row in keywords_df['keywords']]]\n",
    "\n",
    "# Convert int to str to merge dfs\n",
    "adaptations['id'] = adaptations['id'].astype('str')"
   ]
  },
  {
   "cell_type": "code",
   "execution_count": 4,
   "id": "f45fee05",
   "metadata": {},
   "outputs": [],
   "source": [
    "# Join dfs on 'id' field \n",
    "adaptations_merge = pd.merge(adaptations, movies_df,  how = 'inner', on = 'id')"
   ]
  },
  {
   "cell_type": "code",
   "execution_count": 5,
   "id": "45af28df",
   "metadata": {},
   "outputs": [
    {
     "data": {
      "text/plain": [
       "id                   829\n",
       "keywords             829\n",
       "adult                829\n",
       "budget               829\n",
       "genres               829\n",
       "imdb_id              829\n",
       "original_language    829\n",
       "original_title       829\n",
       "release_date         829\n",
       "revenue              829\n",
       "runtime              829\n",
       "spoken_languages     829\n",
       "status               829\n",
       "vote_average         829\n",
       "title                829\n",
       "dtype: int64"
      ]
     },
     "execution_count": 5,
     "metadata": {},
     "output_type": "execute_result"
    }
   ],
   "source": [
    "# Select subset of necessary columns for analysis\n",
    "adaptations_merge = adaptations_merge[['id', 'keywords', 'adult', 'budget', 'genres', 'imdb_id',\n",
    "                                       'original_language', 'original_title', 'release_date', \n",
    "                                      'revenue', 'runtime', 'spoken_languages', 'status', \n",
    "                                       'vote_average', 'title']]\n",
    "\n",
    "# Select movies that have already been released for analysis \n",
    "adaptations_merge = adaptations_merge[adaptations_merge['status'] == 'Released']\n",
    "\n",
    "# Drop rows with NaN values\n",
    "adaptations_merge = adaptations_merge.dropna(how = 'any')\n",
    "\n",
    "# Count adaptations\n",
    "adaptations_merge.count()"
   ]
  },
  {
   "cell_type": "markdown",
   "id": "2d0920c9",
   "metadata": {},
   "source": [
    "There are 829 released films based on novels. "
   ]
  },
  {
   "cell_type": "code",
   "execution_count": 6,
   "id": "45e952af",
   "metadata": {},
   "outputs": [],
   "source": [
    "# Drop null rows and convert float to int to remove decimal, then int to str to merge dfs on same datatype\n",
    "link_df = link_df.dropna()\n",
    "link_df['tmdbId'] = link_df['tmdbId'].astype(np.int64)\n",
    "link_df['tmdbId'] = link_df['tmdbId'].astype(np.str)\n",
    "\n",
    "# Rename tmdbId to id for merging\n",
    "link_df = link_df.rename(columns = {'movieId': \"movieId\", 'tmdbId': 'id'})\n",
    "\n",
    "# Merge movie and ratings data on id field\n",
    "movies_merge = pd.merge(adaptations_merge, link_df,  how = 'inner', on ='id')"
   ]
  },
  {
   "cell_type": "code",
   "execution_count": 7,
   "id": "5f8449fe",
   "metadata": {},
   "outputs": [
    {
     "data": {
      "text/plain": [
       "movieId    26024289\n",
       "rating     26024289\n",
       "dtype: int64"
      ]
     },
     "execution_count": 7,
     "metadata": {},
     "output_type": "execute_result"
    }
   ],
   "source": [
    "# Select subset of necessary columns for analysis\n",
    "ratings_df = ratings_df[['movieId', 'rating']]\n",
    "# Count number of total ratings\n",
    "ratings_df.count()"
   ]
  },
  {
   "cell_type": "markdown",
   "id": "228c6908",
   "metadata": {},
   "source": [
    "There are ~26M ratings provided for 45,115 unique movies."
   ]
  },
  {
   "cell_type": "code",
   "execution_count": 8,
   "id": "e3e1ea72",
   "metadata": {},
   "outputs": [],
   "source": [
    "# Groupby id to calculate mean of user ratings\n",
    "ratings_group = ratings_df.groupby('movieId')\n",
    "ratings_mean = ratings_group['rating'].mean().round(2).reset_index()"
   ]
  },
  {
   "cell_type": "code",
   "execution_count": 9,
   "id": "463853d7",
   "metadata": {},
   "outputs": [],
   "source": [
    "# Merge ratings and movie adaptations df\n",
    "final_movies_df = pd.merge(movies_merge, ratings_mean, how = 'left', on = 'movieId')"
   ]
  },
  {
   "cell_type": "code",
   "execution_count": 10,
   "id": "732e90eb",
   "metadata": {},
   "outputs": [],
   "source": [
    "# Select subset of necessary columns for analysis\n",
    "goodreads_df = goodreads_df[['title', 'authors', 'average_rating','  num_pages', 'ratings_count', 'publisher']]"
   ]
  },
  {
   "cell_type": "code",
   "execution_count": 11,
   "id": "fd16869f",
   "metadata": {},
   "outputs": [],
   "source": [
    "# Merge Goodreads data with final_movies_df\n",
    "final_df = pd.merge(final_movies_df, goodreads_df, how = 'inner', on = 'title')"
   ]
  },
  {
   "cell_type": "code",
   "execution_count": 12,
   "id": "fba56154",
   "metadata": {},
   "outputs": [
    {
     "data": {
      "text/plain": [
       "(105, 1)"
      ]
     },
     "execution_count": 12,
     "metadata": {},
     "output_type": "execute_result"
    }
   ],
   "source": [
    "# Group by title to sum book ratings\n",
    "book_ratings = final_df[['title', 'ratings_count']]\n",
    "groupby_book = book_ratings.groupby('title')\n",
    "book_ratings_df = groupby_book.sum()\n",
    "book_ratings_df.shape"
   ]
  },
  {
   "cell_type": "code",
   "execution_count": 13,
   "id": "84dbcbaa",
   "metadata": {},
   "outputs": [
    {
     "data": {
      "text/plain": [
       "(105, 23)"
      ]
     },
     "execution_count": 13,
     "metadata": {},
     "output_type": "execute_result"
    }
   ],
   "source": [
    "# Drop duplicates from final_df\n",
    "final_df = final_df.drop_duplicates(subset = ['title'], keep = 'first')\n",
    "final_df.head(1)\n",
    "# Verify movie & book count\n",
    "final_df.shape"
   ]
  },
  {
   "cell_type": "markdown",
   "id": "514de598",
   "metadata": {},
   "source": [
    "There are 105 matching books and movie adaptations. "
   ]
  },
  {
   "cell_type": "code",
   "execution_count": 14,
   "id": "f953420a",
   "metadata": {},
   "outputs": [],
   "source": [
    "# Create new column for sum of ratings_count \n",
    "final_df['sum_of_ratings'] = book_ratings_df['ratings_count'].values\n",
    "final_df.reset_index(inplace = True, drop=True)"
   ]
  },
  {
   "cell_type": "code",
   "execution_count": 15,
   "id": "8c39d911",
   "metadata": {},
   "outputs": [
    {
     "data": {
      "text/plain": [
       "(49, 24)"
      ]
     },
     "execution_count": 15,
     "metadata": {},
     "output_type": "execute_result"
    }
   ],
   "source": [
    "# Convert budget column to numeric and replace 0's with NaN to find missing values\n",
    "final_df['budget'] = pd.to_numeric(final_df['budget'], errors='coerce')\n",
    "final_df['budget'] = final_df['budget'].replace(0, np.nan)\n",
    "final_df[final_df['budget'].isnull()].shape"
   ]
  },
  {
   "cell_type": "code",
   "execution_count": 16,
   "id": "b6e139d1",
   "metadata": {},
   "outputs": [
    {
     "data": {
      "text/plain": [
       "(47, 24)"
      ]
     },
     "execution_count": 16,
     "metadata": {},
     "output_type": "execute_result"
    }
   ],
   "source": [
    "# Replace 0's with NaN to detect missing values in revenue column\n",
    "final_df['revenue'] = final_df['revenue'].replace(0, np.nan)\n",
    "final_df[final_df['revenue'].isnull()].shape"
   ]
  },
  {
   "cell_type": "code",
   "execution_count": 17,
   "id": "07e9ba41",
   "metadata": {},
   "outputs": [
    {
     "data": {
      "text/plain": [
       "(55, 25)"
      ]
     },
     "execution_count": 17,
     "metadata": {},
     "output_type": "execute_result"
    }
   ],
   "source": [
    "# Create new column for the ratio of revenue to budget and detect missing values \n",
    "final_df['return'] = final_df['revenue'] / final_df['budget']\n",
    "final_df[final_df['return'].isnull()].shape"
   ]
  },
  {
   "cell_type": "code",
   "execution_count": 18,
   "id": "7539a5d5",
   "metadata": {},
   "outputs": [],
   "source": [
    "# Drop unneeded columns from final_df\n",
    "final_df = final_df.drop(['adult','imdb_id','imdbId', 'status', 'movieId', \n",
    "                          'original_title'], axis=1)"
   ]
  },
  {
   "cell_type": "code",
   "execution_count": 19,
   "id": "c56c819f",
   "metadata": {},
   "outputs": [
    {
     "data": {
      "text/html": [
       "<div>\n",
       "<style scoped>\n",
       "    .dataframe tbody tr th:only-of-type {\n",
       "        vertical-align: middle;\n",
       "    }\n",
       "\n",
       "    .dataframe tbody tr th {\n",
       "        vertical-align: top;\n",
       "    }\n",
       "\n",
       "    .dataframe thead th {\n",
       "        text-align: right;\n",
       "    }\n",
       "</style>\n",
       "<table border=\"1\" class=\"dataframe\">\n",
       "  <thead>\n",
       "    <tr style=\"text-align: right;\">\n",
       "      <th></th>\n",
       "      <th>id</th>\n",
       "      <th>keywords</th>\n",
       "      <th>budget</th>\n",
       "      <th>genres</th>\n",
       "      <th>original_language</th>\n",
       "      <th>release_date</th>\n",
       "      <th>revenue</th>\n",
       "      <th>runtime</th>\n",
       "      <th>spoken_languages</th>\n",
       "      <th>vote_average</th>\n",
       "      <th>title</th>\n",
       "      <th>rating</th>\n",
       "      <th>authors</th>\n",
       "      <th>average_rating</th>\n",
       "      <th>num_pages</th>\n",
       "      <th>ratings_count</th>\n",
       "      <th>publisher</th>\n",
       "      <th>sum_of_ratings</th>\n",
       "      <th>return</th>\n",
       "    </tr>\n",
       "  </thead>\n",
       "  <tbody>\n",
       "    <tr>\n",
       "      <th>76</th>\n",
       "      <td>2929</td>\n",
       "      <td>[{'id': 279, 'name': 'usa'}, {'id': 818, 'name...</td>\n",
       "      <td>NaN</td>\n",
       "      <td>[{'id': 27, 'name': 'Horror'}, {'id': 878, 'na...</td>\n",
       "      <td>en</td>\n",
       "      <td>1910-03-18</td>\n",
       "      <td>NaN</td>\n",
       "      <td>13.0</td>\n",
       "      <td>[{'iso_639_1': 'xx', 'name': 'No Language'}]</td>\n",
       "      <td>6.4</td>\n",
       "      <td>Frankenstein</td>\n",
       "      <td>3.18</td>\n",
       "      <td>Mary Wollstonecraft Shelley/J. Paul Hunter</td>\n",
       "      <td>3.79</td>\n",
       "      <td>336</td>\n",
       "      <td>2188</td>\n",
       "      <td>W. W. Norton &amp; Company</td>\n",
       "      <td>111068</td>\n",
       "      <td>NaN</td>\n",
       "    </tr>\n",
       "    <tr>\n",
       "      <th>20</th>\n",
       "      <td>138</td>\n",
       "      <td>[{'id': 272, 'name': 'transylvania'}, {'id': 8...</td>\n",
       "      <td>355000.0</td>\n",
       "      <td>[{'id': 27, 'name': 'Horror'}]</td>\n",
       "      <td>en</td>\n",
       "      <td>1931-02-12</td>\n",
       "      <td>1012189.0</td>\n",
       "      <td>72.0</td>\n",
       "      <td>[{'iso_639_1': 'en', 'name': 'English'}, {'iso...</td>\n",
       "      <td>7.2</td>\n",
       "      <td>Dracula</td>\n",
       "      <td>3.69</td>\n",
       "      <td>Bram Stoker/Jan Needle/Gary Blythe</td>\n",
       "      <td>3.99</td>\n",
       "      <td>336</td>\n",
       "      <td>73</td>\n",
       "      <td>Walker Books Ltd</td>\n",
       "      <td>197993</td>\n",
       "      <td>2.851237</td>\n",
       "    </tr>\n",
       "  </tbody>\n",
       "</table>\n",
       "</div>"
      ],
      "text/plain": [
       "      id                                           keywords    budget  \\\n",
       "76  2929  [{'id': 279, 'name': 'usa'}, {'id': 818, 'name...       NaN   \n",
       "20   138  [{'id': 272, 'name': 'transylvania'}, {'id': 8...  355000.0   \n",
       "\n",
       "                                               genres original_language  \\\n",
       "76  [{'id': 27, 'name': 'Horror'}, {'id': 878, 'na...                en   \n",
       "20                     [{'id': 27, 'name': 'Horror'}]                en   \n",
       "\n",
       "   release_date    revenue  runtime  \\\n",
       "76   1910-03-18        NaN     13.0   \n",
       "20   1931-02-12  1012189.0     72.0   \n",
       "\n",
       "                                     spoken_languages  vote_average  \\\n",
       "76       [{'iso_639_1': 'xx', 'name': 'No Language'}]           6.4   \n",
       "20  [{'iso_639_1': 'en', 'name': 'English'}, {'iso...           7.2   \n",
       "\n",
       "           title  rating                                     authors  \\\n",
       "76  Frankenstein    3.18  Mary Wollstonecraft Shelley/J. Paul Hunter   \n",
       "20       Dracula    3.69          Bram Stoker/Jan Needle/Gary Blythe   \n",
       "\n",
       "   average_rating   num_pages  ratings_count               publisher  \\\n",
       "76           3.79         336           2188  W. W. Norton & Company   \n",
       "20           3.99         336             73        Walker Books Ltd   \n",
       "\n",
       "    sum_of_ratings    return  \n",
       "76          111068       NaN  \n",
       "20          197993  2.851237  "
      ]
     },
     "execution_count": 19,
     "metadata": {},
     "output_type": "execute_result"
    }
   ],
   "source": [
    "# Sort values to find earliest movie release date\n",
    "final_df.sort_values('release_date').head(2)"
   ]
  },
  {
   "cell_type": "markdown",
   "id": "628e7137",
   "metadata": {},
   "source": [
    "The earliest movie released was in 1910."
   ]
  },
  {
   "cell_type": "code",
   "execution_count": 20,
   "id": "fa29b128",
   "metadata": {},
   "outputs": [],
   "source": [
    "# Rename columns to clean df\n",
    "final_df = final_df.rename(columns = {'keywords': 'movie keywords', 'budget': 'movie budget', \n",
    "                                      'genres': 'movie genre', 'original_language': 'movie original language', \n",
    "                                      'release_date': 'movie release date', 'revenue': 'movie revenue',\n",
    "                                      'runtime': 'movie runtime', \n",
    "                                      'spoken_languages': 'movie spoken languages',\n",
    "                                      'title': 'movie title', 'rating': 'movie rating', \n",
    "                                      'authors': 'book authors', 'average_rating' : 'book rating', \n",
    "                                      '  num_pages': 'book pages', 'ratings_count': 'book ratings count', \n",
    "                                      'publisher' : 'book publisher', 'sum_of_ratings': 'book ratings sum', \n",
    "                                      'return': 'movie return'})"
   ]
  },
  {
   "cell_type": "code",
   "execution_count": 21,
   "id": "0eb2ebf1",
   "metadata": {},
   "outputs": [],
   "source": [
    "# Export full dataset for analysis\n",
    "final_df.to_csv('book_to_film_adaptations.csv')"
   ]
  },
  {
   "cell_type": "code",
   "execution_count": 22,
   "id": "5c3ad362",
   "metadata": {},
   "outputs": [
    {
     "data": {
      "text/plain": [
       "(50, 19)"
      ]
     },
     "execution_count": 22,
     "metadata": {},
     "output_type": "execute_result"
    }
   ],
   "source": [
    "# Drop NaN values to find book-to-film adaptations with revenue and budget data\n",
    "movie_return_df = final_df.dropna(axis=0, subset=['movie return'])\n",
    "movie_return_df.shape"
   ]
  },
  {
   "cell_type": "markdown",
   "id": "25ad6321",
   "metadata": {},
   "source": [
    "There are 50 movies with revenue and budget data"
   ]
  },
  {
   "cell_type": "code",
   "execution_count": 23,
   "id": "1191e573",
   "metadata": {},
   "outputs": [],
   "source": [
    "# Export csv of revenue and budget data for analysis\n",
    "movie_return_df.to_csv('movie_return.csv')"
   ]
  },
  {
   "cell_type": "markdown",
   "id": "b63ce3cc",
   "metadata": {},
   "source": [
    "# Hypothesis 1: Book to Film Adaptations have ratings that are statistically different from most films.¶\n",
    "Hypotheses:\n",
    "\n",
    "- H0: x(adaptations) = x(population)\n",
    "- H1: x(adaptations) != x(population)"
   ]
  },
  {
   "cell_type": "code",
   "execution_count": 24,
   "id": "db248fae",
   "metadata": {},
   "outputs": [],
   "source": [
    "# Create subsets of data for plotting, and rename columns\n",
    "imdb_votes_reviews = final_df[['movie title', 'vote_average']]\n",
    "imdb_votes_reviews = imdb_votes_reviews.rename(columns = {'vote_average': 'Adaptation Films'})\n",
    "\n",
    "imdb_votes_movies = movies_df[['title', 'vote_average']]\n",
    "imdb_votes_movies = imdb_votes_movies.rename(columns = {'title': \"movie title\", \n",
    "                                                        'vote_average': 'All Films'})"
   ]
  },
  {
   "cell_type": "code",
   "execution_count": 25,
   "id": "2aa592e2",
   "metadata": {},
   "outputs": [],
   "source": [
    "# Merge dfs on 'movie title'\n",
    "votes_merge = pd.merge(imdb_votes_movies, imdb_votes_reviews,  how = 'left', on = 'movie title')\n",
    "votes_merge = votes_merge[['Adaptation Films', 'All Films']]"
   ]
  },
  {
   "cell_type": "code",
   "execution_count": 26,
   "id": "15a724f8",
   "metadata": {},
   "outputs": [
    {
     "data": {
      "image/png": "[encoded data removed]",
      "text/plain": [
       "<Figure size 432x288 with 1 Axes>"
      ]
     },
     "metadata": {
      "needs_background": "light"
     },
     "output_type": "display_data"
    }
   ],
   "source": [
    "# Generate a box plot of adaptation votes v. total votes, based on IMBD votes\n",
    "plt.title('Book to Film Adaptation Ratings v. Film Ratings')\n",
    "plt.ylabel('Votes')\n",
    "plt.xlabel('Film Group')\n",
    "votes_merge.boxplot(column=[\"Adaptation Films\", \"All Films\"])\n",
    "# Save the figure\n",
    "plt.savefig(\"ratings_box_plot.png\")\n",
    "# Visualize\n",
    "plt.show()"
   ]
  },
  {
   "cell_type": "markdown",
   "id": "e70a4091",
   "metadata": {},
   "source": [
    "Ratings for Adaptation Films (~7) have a slightly higher mean than All Films (~6). Looking at the box and whisker plot, ratings for All Films vary more widely, with more outliers, than ratings for Adaptation Films. The range of ratings for Adaptation Films is much smaller, with a tighter min and max. The median for All Films is nearly the same rating as Q1 for Adaptation Films. This shows that Adaptation Films are more likely to be rated successfully."
   ]
  },
  {
   "cell_type": "code",
   "execution_count": 27,
   "id": "d294077e",
   "metadata": {},
   "outputs": [],
   "source": [
    "# Function to plot data and define sample v. population\n",
    "def moviedata(loc=0):\n",
    "    sample = votes_merge['Adaptation Films']\n",
    "    population = votes_merge['All Films']\n",
    "\n",
    "    # Scatter Plot of Data\n",
    "    plt.subplot(2, 1, 1)\n",
    "    plt.scatter(range(len(population)), population, label=\"population\")\n",
    "    plt.scatter(range(len(sample)), sample, label=\"sample\")\n",
    "    plt.legend()\n",
    "\n",
    "    # Histogram Plot of Data\n",
    "    plt.subplot(2, 1, 2)\n",
    "    plt.hist(population, 20, density=True, alpha=0.7, label=\"population\")\n",
    "    plt.hist(sample, 20, density=True, alpha=0.7, label=\"sample\")\n",
    "    plt.axvline(population.mean(), color='k', linestyle='dashed', linewidth=1)\n",
    "    plt.axvline(sample.mean(), color='k', linestyle='dashed', linewidth=1)\n",
    "    # Save the figure\n",
    "    plt.savefig(\"hyp_1_subplot.png\")\n",
    "    plt.legend()  \n",
    "    \n",
    "    return population, sample"
   ]
  },
  {
   "cell_type": "code",
   "execution_count": 28,
   "id": "87c38b06",
   "metadata": {},
   "outputs": [
    {
     "data": {
      "image/png": "[encoded data removed]",
      "text/plain": [
       "<Figure size 432x288 with 2 Axes>"
      ]
     },
     "metadata": {
      "needs_background": "light"
     },
     "output_type": "display_data"
    }
   ],
   "source": [
    "# Plot moviedata in scatter and histogram\n",
    "population, sample = moviedata()"
   ]
  },
  {
   "cell_type": "markdown",
   "id": "4a489e0b",
   "metadata": {},
   "source": [
    "Looking at the scatter plot, the sample is a good representation of the population, although the sample ratings are primarily between 5 & 10, whereas the population ratings have a much wider variance. Looking at the histogram, data is normally distributed except for a number of films that received a zero rating. The greatest frequency for sample is ~7, whereas the greatest frequency for population is closer to 6."
   ]
  },
  {
   "cell_type": "markdown",
   "id": "a6792504",
   "metadata": {},
   "source": [
    "Assumptions for p-value:\n",
    "- Data is normally distributed\n",
    "- Data is independent\n",
    "- Data is randomly sampled"
   ]
  },
  {
   "cell_type": "code",
   "execution_count": 29,
   "id": "52d78a79",
   "metadata": {},
   "outputs": [],
   "source": [
    "# Drop NaN values from sample for t-test\n",
    "sample.dropna(inplace = True)"
   ]
  },
  {
   "cell_type": "code",
   "execution_count": 30,
   "id": "b43be172",
   "metadata": {},
   "outputs": [
    {
     "data": {
      "text/plain": [
       "Ttest_1sampResult(statistic=8.333635521004798, pvalue=8.03194619929397e-15)"
      ]
     },
     "execution_count": 30,
     "metadata": {},
     "output_type": "execute_result"
    }
   ],
   "source": [
    "# Run one sample t-test where significance value is .05\n",
    "stats.ttest_1samp(sample, population.mean())"
   ]
  },
  {
   "cell_type": "markdown",
   "id": "72da5cf7",
   "metadata": {},
   "source": [
    "The p-value is small, less than .05. This shows that our null hypothesis is rejected, and proves that the mean rating of Adaptation Films are not equal to All Films. Their means are different. These tests prove our hypothesis that Book to Film Adaptations have ratings that are statistically different than most films."
   ]
  },
  {
   "cell_type": "markdown",
   "id": "683b71c8",
   "metadata": {},
   "source": [
    "# Hypothesis 1.1:  Book ratings are positively correlated to Film ratings.\n",
    "\n",
    "- H1: r2 != 0 (correlation)\n",
    "- H0: r2 = 0 (no correlation)"
   ]
  },
  {
   "cell_type": "code",
   "execution_count": 31,
   "id": "0d6d13a6",
   "metadata": {},
   "outputs": [
    {
     "data": {
      "image/png": "[encoded data removed]",
      "text/plain": [
       "<Figure size 432x288 with 1 Axes>"
      ]
     },
     "metadata": {
      "needs_background": "light"
     },
     "output_type": "display_data"
    },
    {
     "name": "stdout",
     "output_type": "stream",
     "text": [
      "The r-value is: 0.4813170546977568\n"
     ]
    }
   ],
   "source": [
    "# Cast book rating as a float\n",
    "final_df['book rating'] = final_df['book rating'].astype('float')\n",
    "\n",
    "# Determine x & y values\n",
    "x_values = final_df['book rating']\n",
    "y_values = final_df['movie rating']\n",
    "\n",
    " # Linear regression model\n",
    "(slope, intercept, rvalue, pvalue, stderr) = linregress(x_values, y_values)\n",
    "regress_values = x_values * slope + intercept\n",
    "line_eq = \"y = \" + str(round(slope,2)) + \"x + \" + str(round(intercept,2))\n",
    "    \n",
    "# Plot scatter\n",
    "plt.scatter(x_values, y_values, color=\"blue\")\n",
    "plt.plot(x_values,regress_values,\"r-\")\n",
    "plt.xlabel('Book Rating')\n",
    "plt.ylabel('Movie Rating')\n",
    "marker_size=20\n",
    "plt.title('Book Rating v. Film Adaptation Rating') \n",
    "\n",
    "# Save the figure\n",
    "plt.savefig(\"hyp_1.1_regression.png\")\n",
    "\n",
    "# Visualize\n",
    "plt.show()\n",
    "\n",
    "# Print r value\n",
    "print(f\"The r-value is: {rvalue}\")"
   ]
  },
  {
   "cell_type": "markdown",
   "id": "034b1cb1",
   "metadata": {},
   "source": [
    "Looking at the graph, there is a positive correlation between book and movie rating. 48% of the variability in movie ratings of adaptations is explained by the book rating, assuming that all assumptions of OLS is true. We can infer that book ratings are one factor influencing movie ratings, but there are other factors to consider if we wanted to accurately predict how film adaptations would be received such as budget, movie producer, release date, etc. In order to explore the relationship further, we would need to assess whether the assumptions of the linear regression are valid for this dataset. "
   ]
  },
  {
   "cell_type": "markdown",
   "id": "edc5ce5c",
   "metadata": {},
   "source": [
    "# Hypothesis 2: Horror Adaptation ratings are statistically different from ratings of other film genres.\n",
    "\n",
    "Hypotheses:\n",
    "- H0: x(horror adaptations) = x(population)\n",
    "- H1: x(horror adaptations) != x(population)"
   ]
  },
  {
   "cell_type": "code",
   "execution_count": 32,
   "id": "90beebde",
   "metadata": {},
   "outputs": [],
   "source": [
    "# Get values from nested dict\n",
    "#ast.literal_eval(final_df.iloc[0,4])[0]['name'] "
   ]
  },
  {
   "cell_type": "code",
   "execution_count": 33,
   "id": "344f30b4",
   "metadata": {},
   "outputs": [],
   "source": [
    "# lambda x (input) : (output)\n",
    "#final_df['movie genre'] = final_df['movie genre'].apply(lambda x:ast.literal_eval(x)[0]['name'])"
   ]
  },
  {
   "cell_type": "code",
   "execution_count": 34,
   "id": "20692f4a",
   "metadata": {},
   "outputs": [
    {
     "data": {
      "image/png": "[encoded data removed]",
      "text/plain": [
       "<Figure size 1440x720 with 1 Axes>"
      ]
     },
     "metadata": {
      "needs_background": "light"
     },
     "output_type": "display_data"
    }
   ],
   "source": [
    "# Create a boxplot to compare means of top 6 rated genres\n",
    "final_df.boxplot(\"vote_average\", by=\"movie genre\", figsize=(20, 10))\n",
    "\n",
    "# Save the figure\n",
    "plt.savefig(\"hyp_2.png\")\n",
    "\n",
    "# Visualize\n",
    "plt.show();"
   ]
  },
  {
   "cell_type": "markdown",
   "id": "560975bc",
   "metadata": {},
   "source": [
    "Ratings for Crime Adaptation Films have a slightly higher mean than other genres. Looking at the box and whisker plot, ratings for Mystery Films vary more widely than other genres. This plot shows that Crime, Drama and Adventure book to film adaptations are more likely to be rated slightly more successfully than other genres. Horror films and Family films tend to be well rated as well, with a low variance of user ratings."
   ]
  },
  {
   "cell_type": "code",
   "execution_count": 35,
   "id": "96a9ccdd",
   "metadata": {},
   "outputs": [],
   "source": [
    "# Extract individual groups for top genres by rating\n",
    "group1 = final_df[final_df[\"movie genre\"] == 'Drama'][\"vote_average\"]\n",
    "group2 = final_df[final_df[\"movie genre\"] == 'Crime'][\"vote_average\"]\n",
    "group3 = final_df[final_df[\"movie genre\"] == 'Mystery'][\"vote_average\"]\n",
    "group4 = final_df[final_df[\"movie genre\"] == 'Adventure'][\"vote_average\"]\n",
    "group5 = final_df[final_df[\"movie genre\"] == 'Horror'][\"vote_average\"]"
   ]
  },
  {
   "cell_type": "code",
   "execution_count": 36,
   "id": "91e2e24e",
   "metadata": {},
   "outputs": [
    {
     "data": {
      "text/plain": [
       "F_onewayResult(statistic=nan, pvalue=nan)"
      ]
     },
     "execution_count": 36,
     "metadata": {},
     "output_type": "execute_result"
    }
   ],
   "source": [
    "# Perform the ANOVA\n",
    "stats.f_oneway(group1, group2, group3, group4, group5)"
   ]
  },
  {
   "cell_type": "markdown",
   "id": "4a0c36f5",
   "metadata": {},
   "source": [
    "Results: The p-value is greater than .05. Therefore, we failed to reject the null hypothesis. We can infer that book to film adaptations in the horror genre are not a standout. Genres like Crime, Mystery, Adventure and Drama have similarly positive reviews. Their means are similar showing that book to film adaptations tend to do well at the box office, regardless of genre."
   ]
  },
  {
   "cell_type": "markdown",
   "id": "7859e92e",
   "metadata": {},
   "source": [
    "# Hypothesis 3: Is there a relationship / correlation between the number of reviewers of a book, and the movie rating?\n",
    "- H1: r2 != 0 (correlation)\n",
    "- H0: r2 = 0 (no correlation)"
   ]
  },
  {
   "cell_type": "code",
   "execution_count": 37,
   "id": "74060192",
   "metadata": {},
   "outputs": [
    {
     "data": {
      "image/png": "[encoded data removed]",
      "text/plain": [
       "<Figure size 432x288 with 1 Axes>"
      ]
     },
     "metadata": {
      "needs_background": "light"
     },
     "output_type": "display_data"
    },
    {
     "name": "stdout",
     "output_type": "stream",
     "text": [
      "The r-value is: 0.019169007359004328\n"
     ]
    }
   ],
   "source": [
    "# Determine x & y values\n",
    "x_values = final_df['book ratings count']\n",
    "y_values = final_df['movie rating']\n",
    "\n",
    " # Linear regression model\n",
    "(slope, intercept, rvalue, pvalue, stderr) = linregress(x_values, y_values)\n",
    "regress_values = x_values * slope + intercept\n",
    "line_eq = \"y = \" + str(round(slope,2)) + \"x + \" + str(round(intercept,2))\n",
    "    \n",
    "# Plot scatter\n",
    "plt.scatter(x_values, y_values, color=\"blue\")\n",
    "plt.plot(x_values,regress_values,\"r-\")\n",
    "plt.xlabel('Number of Book Reviews')\n",
    "plt.ylabel('Movie Rating')\n",
    "marker_size=20\n",
    "plt.title('Book Length v. Movie Rating of Book to Film Adaptations')\n",
    "\n",
    "# Save the figure\n",
    "plt.savefig(\"hyp_3.png\")\n",
    "\n",
    "# Visualize\n",
    "plt.show()\n",
    "\n",
    "# Print r value\n",
    "print(f\"The r-value is: {rvalue}\")"
   ]
  },
  {
   "cell_type": "markdown",
   "id": "449d53b5",
   "metadata": {},
   "source": [
    "From the pattern observed from the scatterplot and regression, the low rvalue shows that there is not a relationship between the number of pages in a novel and the rating of the film adaptation. The r squared value of 1% can be interpreted as the length of the book explains 1% of the variation in film adaptation scores. Therefore, we can infer that the relationship between these variables is not very meaningful. "
   ]
  },
  {
   "cell_type": "markdown",
   "id": "e06e62d3",
   "metadata": {},
   "source": [
    "# Hypothesis 4: Is there a relationship / correlation between the number of Goodreads book reviews and the movie rating?\n",
    "- H1: r2 != 0 (correlation)\n",
    "- H0: r2 = 0 (no correlation)"
   ]
  },
  {
   "cell_type": "code",
   "execution_count": 38,
   "id": "8e6f2746",
   "metadata": {},
   "outputs": [],
   "source": [
    "# Cast book pages as int\n",
    "final_df['book pages'] = final_df['book pages'].astype('int64')"
   ]
  },
  {
   "cell_type": "code",
   "execution_count": 39,
   "id": "78f0447c",
   "metadata": {},
   "outputs": [
    {
     "data": {
      "image/png": "[encoded data removed]",
      "text/plain": [
       "<Figure size 432x288 with 1 Axes>"
      ]
     },
     "metadata": {
      "needs_background": "light"
     },
     "output_type": "display_data"
    },
    {
     "name": "stdout",
     "output_type": "stream",
     "text": [
      "The r-value is: -0.043778432195029734\n"
     ]
    }
   ],
   "source": [
    "# Determine x & y values\n",
    "x_values = final_df['book pages']\n",
    "y_values = final_df['movie rating']\n",
    "\n",
    " # Linear regression model\n",
    "(slope, intercept, rvalue, pvalue, stderr) = linregress(x_values, y_values)\n",
    "regress_values = x_values * slope + intercept\n",
    "line_eq = \"y = \" + str(round(slope,2)) + \"x + \" + str(round(intercept,2))\n",
    "    \n",
    "# Plot scatter\n",
    "plt.scatter(x_values, y_values, color=\"blue\")\n",
    "plt.plot(x_values,regress_values,\"r-\")\n",
    "plt.xlabel('Number of Pages')\n",
    "plt.ylabel('Movie Rating')\n",
    "marker_size=20\n",
    "plt.title('Book Length v. Movie Rating of Book to Film Adaptations')\n",
    "\n",
    "# Save the figure\n",
    "plt.savefig(\"hyp_4.png\")\n",
    "\n",
    "# Visualize\n",
    "plt.show()\n",
    "\n",
    "# Print r value\n",
    "print(f\"The r-value is: {rvalue}\")"
   ]
  },
  {
   "cell_type": "markdown",
   "id": "9cd17dde",
   "metadata": {},
   "source": [
    "From the pattern observed from the scatterplot and regression, the low rvalue shows that there is not a relationship between the number of goodreads reviews and the rating of the film adaptation. The r squared value of 4% can be interpreted as the book rating explains 4% of the variation in film adaptation scores. Therefore, we can also infer that the relationship between these variables is not very meaningful."
   ]
  }
 ],
 "metadata": {
  "kernelspec": {
   "display_name": "Python 3",
   "language": "python",
   "name": "python3"
  },
  "language_info": {
   "codemirror_mode": {
    "name": "ipython",
    "version": 3
   },
   "file_extension": ".py",
   "mimetype": "text/x-python",
   "name": "python",
   "nbconvert_exporter": "python",
   "pygments_lexer": "ipython3",
   "version": "3.8.8"
  }
 },
 "nbformat": 4,
 "nbformat_minor": 5
}
