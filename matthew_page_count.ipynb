{
 "cells": [
  {
   "cell_type": "code",
   "execution_count": 15,
   "metadata": {},
   "outputs": [],
   "source": [
    "import pandas as pd\n",
    "import matplotlib as pyplot\n",
    "import numpy as np\n",
    "import seaborn as sns\n",
    "from scipy import stats\n",
    "import matplotlib.pyplot as plt\n",
    "from PIL import Image\n",
    "#from wordcloud import WordCloud, STOPWORDS, ImageColorGenerator\n",
    "from scipy.stats import linregress\n",
    "import warnings\n",
    "warnings.filterwarnings('ignore')\n",
    "%matplotlib inline"
   ]
  },
  {
   "cell_type": "code",
   "execution_count": 16,
   "metadata": {},
   "outputs": [],
   "source": [
    "# Reference csv file paths\n",
    "final_path = \"Data/book_to_film_adaptations.csv\""
   ]
  },
  {
   "cell_type": "code",
   "execution_count": 17,
   "metadata": {},
   "outputs": [
    {
     "data": {
      "text/html": [
       "<div>\n",
       "<style scoped>\n",
       "    .dataframe tbody tr th:only-of-type {\n",
       "        vertical-align: middle;\n",
       "    }\n",
       "\n",
       "    .dataframe tbody tr th {\n",
       "        vertical-align: top;\n",
       "    }\n",
       "\n",
       "    .dataframe thead th {\n",
       "        text-align: right;\n",
       "    }\n",
       "</style>\n",
       "<table border=\"1\" class=\"dataframe\">\n",
       "  <thead>\n",
       "    <tr style=\"text-align: right;\">\n",
       "      <th></th>\n",
       "      <th>Unnamed: 0</th>\n",
       "      <th>index</th>\n",
       "      <th>id</th>\n",
       "      <th>keywords</th>\n",
       "      <th>adult</th>\n",
       "      <th>budget</th>\n",
       "      <th>genres</th>\n",
       "      <th>imdb_id</th>\n",
       "      <th>original_language</th>\n",
       "      <th>original_title</th>\n",
       "      <th>...</th>\n",
       "      <th>title</th>\n",
       "      <th>movieId</th>\n",
       "      <th>imdbId</th>\n",
       "      <th>rating</th>\n",
       "      <th>authors</th>\n",
       "      <th>average_rating</th>\n",
       "      <th>num_pages</th>\n",
       "      <th>ratings_count</th>\n",
       "      <th>publisher</th>\n",
       "      <th>sum_of_ratings</th>\n",
       "    </tr>\n",
       "  </thead>\n",
       "  <tbody>\n",
       "    <tr>\n",
       "      <th>0</th>\n",
       "      <td>0</td>\n",
       "      <td>0</td>\n",
       "      <td>4584</td>\n",
       "      <td>[{'id': 420, 'name': 'bowling'}, {'id': 818, '...</td>\n",
       "      <td>False</td>\n",
       "      <td>16500000</td>\n",
       "      <td>Drama</td>\n",
       "      <td>tt0114388</td>\n",
       "      <td>en</td>\n",
       "      <td>Sense and Sensibility</td>\n",
       "      <td>...</td>\n",
       "      <td>Sense and Sensibility</td>\n",
       "      <td>17</td>\n",
       "      <td>114388</td>\n",
       "      <td>3.95</td>\n",
       "      <td>Jane Austen/Claudia L. Johnson</td>\n",
       "      <td>4.07</td>\n",
       "      <td>269</td>\n",
       "      <td>768</td>\n",
       "      <td>W. W. Norton &amp; Company</td>\n",
       "      <td>1773</td>\n",
       "    </tr>\n",
       "    <tr>\n",
       "      <th>1</th>\n",
       "      <td>1</td>\n",
       "      <td>6</td>\n",
       "      <td>10533</td>\n",
       "      <td>[{'id': 818, 'name': 'based on novel'}, {'id':...</td>\n",
       "      <td>False</td>\n",
       "      <td>50000000</td>\n",
       "      <td>Drama</td>\n",
       "      <td>tt0114345</td>\n",
       "      <td>en</td>\n",
       "      <td>The Scarlet Letter</td>\n",
       "      <td>...</td>\n",
       "      <td>The Scarlet Letter</td>\n",
       "      <td>191</td>\n",
       "      <td>114345</td>\n",
       "      <td>2.69</td>\n",
       "      <td>Nathaniel Hawthorne/Thomas E. Connolly/Nina Baym</td>\n",
       "      <td>3.40</td>\n",
       "      <td>279</td>\n",
       "      <td>609586</td>\n",
       "      <td>Penguin Books</td>\n",
       "      <td>11030</td>\n",
       "    </tr>\n",
       "    <tr>\n",
       "      <th>2</th>\n",
       "      <td>2</td>\n",
       "      <td>18</td>\n",
       "      <td>19101</td>\n",
       "      <td>[{'id': 818, 'name': 'based on novel'}, {'id':...</td>\n",
       "      <td>False</td>\n",
       "      <td>17000000</td>\n",
       "      <td>Drama</td>\n",
       "      <td>tt0113670</td>\n",
       "      <td>en</td>\n",
       "      <td>A Little Princess</td>\n",
       "      <td>...</td>\n",
       "      <td>A Little Princess</td>\n",
       "      <td>262</td>\n",
       "      <td>113670</td>\n",
       "      <td>3.76</td>\n",
       "      <td>Frances Hodgson Burnett/Nancy Bond</td>\n",
       "      <td>4.20</td>\n",
       "      <td>242</td>\n",
       "      <td>238192</td>\n",
       "      <td>Penguin Books</td>\n",
       "      <td>14769</td>\n",
       "    </tr>\n",
       "  </tbody>\n",
       "</table>\n",
       "<p>3 rows × 25 columns</p>\n",
       "</div>"
      ],
      "text/plain": [
       "   Unnamed: 0  index     id  \\\n",
       "0           0      0   4584   \n",
       "1           1      6  10533   \n",
       "2           2     18  19101   \n",
       "\n",
       "                                            keywords  adult    budget genres  \\\n",
       "0  [{'id': 420, 'name': 'bowling'}, {'id': 818, '...  False  16500000  Drama   \n",
       "1  [{'id': 818, 'name': 'based on novel'}, {'id':...  False  50000000  Drama   \n",
       "2  [{'id': 818, 'name': 'based on novel'}, {'id':...  False  17000000  Drama   \n",
       "\n",
       "     imdb_id original_language         original_title  ...  \\\n",
       "0  tt0114388                en  Sense and Sensibility  ...   \n",
       "1  tt0114345                en     The Scarlet Letter  ...   \n",
       "2  tt0113670                en      A Little Princess  ...   \n",
       "\n",
       "                   title  movieId  imdbId rating  \\\n",
       "0  Sense and Sensibility       17  114388   3.95   \n",
       "1     The Scarlet Letter      191  114345   2.69   \n",
       "2      A Little Princess      262  113670   3.76   \n",
       "\n",
       "                                            authors average_rating  \\\n",
       "0                    Jane Austen/Claudia L. Johnson           4.07   \n",
       "1  Nathaniel Hawthorne/Thomas E. Connolly/Nina Baym           3.40   \n",
       "2                Frances Hodgson Burnett/Nancy Bond           4.20   \n",
       "\n",
       "     num_pages  ratings_count               publisher sum_of_ratings  \n",
       "0          269            768  W. W. Norton & Company           1773  \n",
       "1          279         609586           Penguin Books          11030  \n",
       "2          242         238192           Penguin Books          14769  \n",
       "\n",
       "[3 rows x 25 columns]"
      ]
     },
     "execution_count": 17,
     "metadata": {},
     "output_type": "execute_result"
    }
   ],
   "source": [
    "# Import csv files as DataFrames\n",
    "\n",
    "# Data\n",
    "final_df = pd.read_csv(final_path, encoding=\"utf-8\")\n",
    "\n",
    "final_df.head(3)\n"
   ]
  },
  {
   "cell_type": "code",
   "execution_count": 18,
   "metadata": {},
   "outputs": [
    {
     "name": "stdout",
     "output_type": "stream",
     "text": [
      "Index(['Unnamed: 0', 'index', 'id', 'keywords', 'adult', 'budget', 'genres',\n",
      "       'imdb_id', 'original_language', 'original_title', 'release_date',\n",
      "       'revenue', 'runtime', 'spoken_languages', 'status', 'title', 'movieId',\n",
      "       'imdbId', 'rating', 'authors', 'average_rating', '  num_pages',\n",
      "       'ratings_count', 'publisher', 'sum_of_ratings'],\n",
      "      dtype='object')\n"
     ]
    }
   ],
   "source": [
    "print(final_df.columns)"
   ]
  },
  {
   "cell_type": "code",
   "execution_count": 20,
   "metadata": {},
   "outputs": [
    {
     "data": {
      "image/png": "[encoded data removed]",
      "text/plain": [
       "<Figure size 432x288 with 1 Axes>"
      ]
     },
     "metadata": {
      "needs_background": "light"
     },
     "output_type": "display_data"
    },
    {
     "name": "stdout",
     "output_type": "stream",
     "text": [
      "The r-value is: -0.043778432195029734\n"
     ]
    }
   ],
   "source": [
    "# Determine x & y values\n",
    "x_values = final_df['  num_pages']\n",
    "y_values = final_df['rating']\n",
    "\n",
    " # Linear regression model\n",
    "(slope, intercept, rvalue, pvalue, stderr) = linregress(x_values, y_values)\n",
    "regress_values = x_values * slope + intercept\n",
    "line_eq = \"y = \" + str(round(slope,2)) + \"x + \" + str(round(intercept,2))\n",
    "    \n",
    "# Plot scatter\n",
    "plt.scatter(x_values, y_values, color=\"blue\")\n",
    "plt.plot(x_values,regress_values,\"r-\")\n",
    "plt.xlabel('Number of Pages')\n",
    "plt.ylabel('Movie Rating')\n",
    "marker_size=20\n",
    "plt.title('Book Length v. Movie Rating of Book to Film Adaptations')\n",
    "plt.show()\n",
    "#H1: r2 != 0 (correlation)\n",
    "#H0: r2 = 0 (no correlation)\n",
    "\n",
    "# Print r value\n",
    "print(f\"The r-value is: {rvalue}\")\n",
    "# For further evaluation"
   ]
  },
  {
   "cell_type": "code",
   "execution_count": 22,
   "metadata": {},
   "outputs": [
    {
     "data": {
      "image/png": "[encoded data removed]",
      "text/plain": [
       "<Figure size 432x288 with 1 Axes>"
      ]
     },
     "metadata": {
      "needs_background": "light"
     },
     "output_type": "display_data"
    },
    {
     "name": "stdout",
     "output_type": "stream",
     "text": [
      "The r-value is: 0.019169007359004328\n"
     ]
    }
   ],
   "source": [
    "# Determine x & y values\n",
    "x_values = final_df['ratings_count']\n",
    "y_values = final_df['rating']\n",
    "\n",
    " # Linear regression model\n",
    "(slope, intercept, rvalue, pvalue, stderr) = linregress(x_values, y_values)\n",
    "regress_values = x_values * slope + intercept\n",
    "line_eq = \"y = \" + str(round(slope,2)) + \"x + \" + str(round(intercept,2))\n",
    "    \n",
    "# Plot scatter\n",
    "plt.scatter(x_values, y_values, color=\"blue\")\n",
    "plt.plot(x_values,regress_values,\"r-\")\n",
    "plt.xlabel('Number of Book Reviews')\n",
    "plt.ylabel('Movie Rating')\n",
    "marker_size=20\n",
    "plt.title('Book Length v. Movie Rating of Book to Film Adaptations')\n",
    "plt.show()\n",
    "#H1: r2 != 0 (correlation)\n",
    "#H0: r2 = 0 (no correlation)\n",
    "\n",
    "# Print r value\n",
    "print(f\"The r-value is: {rvalue}\")\n",
    "# For further evaluation"
   ]
  },
  {
   "cell_type": "code",
   "execution_count": 24,
   "metadata": {},
   "outputs": [],
   "source": [
    "def ratingcountdata(loc=0):\n",
    "    sample = final_df['ratings_count']\n",
    "    population = final_df['rating']\n",
    "    \n",
    " \n",
    "\n",
    "    # Scatter Plot of Data\n",
    "    plt.subplot(2, 1, 1)\n",
    "    plt.scatter(range(len(population)), population, label=\"population\")\n",
    "    plt.scatter(range(len(sample)), sample, label=\"sample\")\n",
    "    plt.legend()\n",
    "\n",
    "    # Histogram Plot of Data\n",
    "    plt.subplot(2, 1, 2)\n",
    "    plt.hist(population, 20, density=True, alpha=0.7, label=\"population\")\n",
    "    plt.hist(sample, 20, density=True, alpha=0.7, label=\"sample\")\n",
    "    plt.axvline(population.mean(), color='k', linestyle='dashed', linewidth=1)\n",
    "    plt.axvline(sample.mean(), color='k', linestyle='dashed', linewidth=1)\n",
    "    plt.legend()  \n",
    "    \n",
    "    return population, sample"
   ]
  },
  {
   "cell_type": "code",
   "execution_count": 25,
   "metadata": {},
   "outputs": [
    {
     "data": {
      "image/png": "[encoded data removed]",
      "text/plain": [
       "<Figure size 432x288 with 2 Axes>"
      ]
     },
     "metadata": {
      "needs_background": "light"
     },
     "output_type": "display_data"
    }
   ],
   "source": [
    "population, sample = moviedata()"
   ]
  },
  {
   "cell_type": "code",
   "execution_count": 26,
   "metadata": {},
   "outputs": [
    {
     "data": {
      "text/plain": [
       "Ttest_1sampResult(statistic=4.448815173110618, pvalue=2.1718128182527057e-05)"
      ]
     },
     "execution_count": 26,
     "metadata": {},
     "output_type": "execute_result"
    }
   ],
   "source": [
    "# Drop NaN values from sample for t-test\n",
    "sample.dropna(inplace = True)\n",
    "\n",
    "# Run one sample t-test where significance value is .05\n",
    "stats.ttest_1samp(sample, population.mean())"
   ]
  },
  {
   "cell_type": "code",
   "execution_count": null,
   "metadata": {},
   "outputs": [],
   "source": []
  }
 ],
 "metadata": {
  "kernelspec": {
   "display_name": "Python 3",
   "language": "python",
   "name": "python3"
  },
  "language_info": {
   "codemirror_mode": {
    "name": "ipython",
    "version": 3
   },
   "file_extension": ".py",
   "mimetype": "text/x-python",
   "name": "python",
   "nbconvert_exporter": "python",
   "pygments_lexer": "ipython3",
   "version": "3.6.10"
  }
 },
 "nbformat": 4,
 "nbformat_minor": 4
}
