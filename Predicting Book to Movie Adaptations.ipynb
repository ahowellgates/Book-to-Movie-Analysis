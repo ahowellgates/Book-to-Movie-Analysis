{
 "cells": [
  {
   "cell_type": "markdown",
   "id": "96a463c2",
   "metadata": {},
   "source": [
    "## Predicting The Next Book-to-Movie Adaptation \n",
    "What book characteristics are correlated to successful movie adaptations? "
   ]
  },
  {
   "cell_type": "code",
   "execution_count": 11,
   "id": "8a577d75",
   "metadata": {},
   "outputs": [],
   "source": [
    "# Import dependencies\n",
    "import pandas as pd\n",
    "import matplotlib as pyplot"
   ]
  },
  {
   "cell_type": "code",
   "execution_count": 12,
   "id": "1d408826",
   "metadata": {},
   "outputs": [
    {
     "name": "stderr",
     "output_type": "stream",
     "text": [
      "C:\\Users\\laure\\anaconda3\\lib\\site-packages\\IPython\\core\\interactiveshell.py:3165: DtypeWarning: Columns (10) have mixed types.Specify dtype option on import or set low_memory=False.\n",
      "  has_raised = await self.run_ast_nodes(code_ast.body, cell_name,\n"
     ]
    }
   ],
   "source": [
    "# Reference csvs file path\n",
    "goodreads_path = \"Raw_Data/books.csv\"\n",
    "keywords_path = \"Raw_Data/keywords.csv\"\n",
    "movies_path = \"Raw_Data/movies_metadata.csv\"\n",
    "ratings_path = \"Raw_Data/ratings.csv\"\n",
    "\n",
    "# Import csv files as DataFrames\n",
    "goodreads_df = pd.read_csv(goodreads_path, encoding=\"utf-8\")\n",
    "keywords_df = pd.read_csv(keywords_path, encoding=\"utf-8\")\n",
    "movies_df = pd.read_csv(movies_path, encoding=\"utf-8\")\n",
    "ratings_df = pd.read_csv(ratings_path, encoding=\"utf-8\")"
   ]
  },
  {
   "cell_type": "code",
   "execution_count": 13,
   "id": "47ff1a69",
   "metadata": {},
   "outputs": [],
   "source": [
    "#[i for i in keywords_df['keywords'] if 'based on novel' in i]"
   ]
  },
  {
   "cell_type": "code",
   "execution_count": 14,
   "id": "96c1d467",
   "metadata": {},
   "outputs": [
    {
     "data": {
      "text/html": [
       "<div>\n",
       "<style scoped>\n",
       "    .dataframe tbody tr th:only-of-type {\n",
       "        vertical-align: middle;\n",
       "    }\n",
       "\n",
       "    .dataframe tbody tr th {\n",
       "        vertical-align: top;\n",
       "    }\n",
       "\n",
       "    .dataframe thead th {\n",
       "        text-align: right;\n",
       "    }\n",
       "</style>\n",
       "<table border=\"1\" class=\"dataframe\">\n",
       "  <thead>\n",
       "    <tr style=\"text-align: right;\">\n",
       "      <th></th>\n",
       "      <th>id</th>\n",
       "      <th>keywords</th>\n",
       "    </tr>\n",
       "  </thead>\n",
       "  <tbody>\n",
       "    <tr>\n",
       "      <th>3</th>\n",
       "      <td>31357</td>\n",
       "      <td>[{'id': 818, 'name': 'based on novel'}, {'id':...</td>\n",
       "    </tr>\n",
       "    <tr>\n",
       "      <th>16</th>\n",
       "      <td>4584</td>\n",
       "      <td>[{'id': 420, 'name': 'bowling'}, {'id': 818, '...</td>\n",
       "    </tr>\n",
       "    <tr>\n",
       "      <th>20</th>\n",
       "      <td>8012</td>\n",
       "      <td>[{'id': 395, 'name': 'gambling'}, {'id': 416, ...</td>\n",
       "    </tr>\n",
       "    <tr>\n",
       "      <th>70</th>\n",
       "      <td>11859</td>\n",
       "      <td>[{'id': 258, 'name': 'bomb'}, {'id': 416, 'nam...</td>\n",
       "    </tr>\n",
       "    <tr>\n",
       "      <th>136</th>\n",
       "      <td>39428</td>\n",
       "      <td>[{'id': 531, 'name': 'southern usa'}, {'id': 8...</td>\n",
       "    </tr>\n",
       "  </tbody>\n",
       "</table>\n",
       "</div>"
      ],
      "text/plain": [
       "        id                                           keywords\n",
       "3    31357  [{'id': 818, 'name': 'based on novel'}, {'id':...\n",
       "16    4584  [{'id': 420, 'name': 'bowling'}, {'id': 818, '...\n",
       "20    8012  [{'id': 395, 'name': 'gambling'}, {'id': 416, ...\n",
       "70   11859  [{'id': 258, 'name': 'bomb'}, {'id': 416, 'nam...\n",
       "136  39428  [{'id': 531, 'name': 'southern usa'}, {'id': 8..."
      ]
     },
     "execution_count": 14,
     "metadata": {},
     "output_type": "execute_result"
    }
   ],
   "source": [
    "adaptations = keywords_df[['based on novel' in row for row in keywords_df['keywords']]]\n",
    "adaptations.head()"
   ]
  },
  {
   "cell_type": "code",
   "execution_count": null,
   "id": "f45fee05",
   "metadata": {},
   "outputs": [],
   "source": [
    "# Inner join adaptations on id to movies_df (if not unique id, find correct id), \n",
    "# ratings_df (may need to switch id), goodreads_df (based on title, may need try except)"
   ]
  }
 ],
 "metadata": {
  "kernelspec": {
   "display_name": "Python 3",
   "language": "python",
   "name": "python3"
  },
  "language_info": {
   "codemirror_mode": {
    "name": "ipython",
    "version": 3
   },
   "file_extension": ".py",
   "mimetype": "text/x-python",
   "name": "python",
   "nbconvert_exporter": "python",
   "pygments_lexer": "ipython3",
   "version": "3.8.8"
  }
 },
 "nbformat": 4,
 "nbformat_minor": 5
}
